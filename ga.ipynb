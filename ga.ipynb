{
  "nbformat": 4,
  "nbformat_minor": 0,
  "metadata": {
    "colab": {
      "name": "ga.ipynb",
      "provenance": [],
      "collapsed_sections": []
    },
    "kernelspec": {
      "name": "python3",
      "display_name": "Python 3"
    }
  },
  "cells": [
    {
      "cell_type": "code",
      "metadata": {
        "id": "4mYPGA4AZeNl"
      },
      "source": [
        "import numpy as np\n",
        "import random \n",
        "import math"
      ],
      "execution_count": null,
      "outputs": []
    },
    {
      "cell_type": "code",
      "metadata": {
        "id": "P_mceTwOZqC4"
      },
      "source": [
        "def fitness(x1, x2) : \n",
        "  return math.cos(math.radians(x1)) * math.sin(math.radians(x2)) - x1 / (x2**2 + 1)\n",
        "\n",
        "class Individu() :\n",
        "\n",
        "  def __init__(self, function) :\n",
        "    x1=np.random.uniform(-1, 2)\n",
        "    x2=np.random.uniform(-1, 1)\n",
        "\n",
        "    self.function=function\n",
        "    self.chromosome=np.array([x1, x2], dtype=np.float)\n",
        "    self.fitness=function(self.chromosome[0], self.chromosome[1])\n",
        "\n",
        "  def updateGen(self, x1, x2) : \n",
        "    self.chromosome = np.array([x1, x2], dtype=np.float)\n",
        "    self.updateFitness() \n",
        "\n",
        "  def updateFitness(self) :\n",
        "    self.fitness=self.function(self.chromosome[0], self.chromosome[1])\n",
        "    \n",
        "  def reset(self) : \n",
        "    x1=np.random.uniform(-1, 2)\n",
        "    x2=np.random.uniform(-1, 1)\n",
        "\n",
        "    self.chromosome=np.array([x1, x2], dtype=np.float)\n",
        "    self.fitness=self.function(self.chromosome[0], self.chromosome[1])\n",
        "\n",
        "\n",
        "class Population() : \n",
        "\n",
        "  def __init__(self, size, function) : \n",
        "    self.individu = self._initPopulation(size, function)\n",
        "    self.fittest = self.getFittest()\n",
        "    self.secondFittest = self.getSecondFittest() \n",
        "    self.leastFittest = self.getLeastFittest() \n",
        "\n",
        "  def _initPopulation(self, size, function) : \n",
        "    pop = []\n",
        "    for i in range(size) : \n",
        "      individu = Individu(function)\n",
        "      pop.append(individu)\n",
        "    return np.array(pop)\n",
        "\n",
        "  def updateFitness(self) : \n",
        "    for individu in self.individu : \n",
        "      individu.updateFitness()\n",
        "\n",
        "  def getFittest(self) :\n",
        "    max = self.individu[0] \n",
        "    for individu in self.individu :\n",
        "      if individu.fitness > max.fitness : \n",
        "        max = individu \n",
        "    return max\n",
        "\n",
        "  def getSecondFittest(self) : \n",
        "    max = self.individu[0] \n",
        "    for individu in self.individu : \n",
        "      if individu.fitness > max.fitness and not self.fittest : \n",
        "        max = individu \n",
        "    return max \n",
        "\n",
        "  def getLeastFittest(self) : \n",
        "    min = self.individu[0] \n",
        "    for individu in self.individu : \n",
        "      if individu.fitness < min.fitness : \n",
        "        min = individu \n",
        "    return min\n",
        "\n",
        "  def updateState(self) : \n",
        "    self.updateFitness()\n",
        "    self.fittest = self.getFittest()\n",
        "    self.secondFittest = self.getSecondFittest() \n",
        "    self.leastFittest = self.getLeastFittest() \n",
        "\n",
        "class GADriver() : \n",
        "  def __init__(self, population, pc, pm, function) : \n",
        "    self.population = population\n",
        "    self._pc = pc\n",
        "    self._pm = pm\n",
        "    self._funciton = function\n",
        "\n",
        "  def config(self, pc, pm, function) : \n",
        "    self._pc = pc \n",
        "    self._pm = pm \n",
        "    self._function = function\n",
        "\n",
        "  def crossover(self) : \n",
        "    \n",
        "    rand = random.choices([0, 1], [(1 - self._pc), self._pc])\n",
        "    if rand[0] == 1 : \n",
        "      x1 = self.population.fittest.chromosome[0]\n",
        "      x2 = self.population.secondFittest.chromosome[1]\n",
        "      self.population.leastFittest.updateGen(x1, x2)\n",
        "  \n",
        "  def mutation(self) :\n",
        "    rand = random.choices([0, 1], [(1 - self._pm), self._pm])\n",
        "    if rand[0] == 1 : \n",
        "      self.population.leastFittest.reset()\n",
        "\n",
        "\n",
        "  def train(self, n_gen) :\n",
        "\n",
        "\n",
        "    fit_history = []\n",
        "    sec_history = []\n",
        "    lea_history = []\n",
        "\n",
        "    it = 1\n",
        "    for i in range(n_gen) :\n",
        "\n",
        "      fittest = self.population.fittest.fitness \n",
        "      fit_history.append(self.population.fittest.fitness)\n",
        "      sec_history.append(self.population.secondFittest.fitness)\n",
        "      lea_history.append(self.population.leastFittest.fitness)\n",
        "\n",
        "      print(\"gen-{}\".format(it))\n",
        "      print(\"-\"*10)\n",
        "      print(\"Fittest : \", self.population.fittest.chromosome, self.population.fittest.fitness)\n",
        "      print(\"Second  : \", self.population.secondFittest.chromosome, self.population.secondFittest.fitness)\n",
        "      print(\"Least   : \", self.population.leastFittest.chromosome, self.population.leastFittest.fitness)\n",
        "      print(\"\\n\")\n",
        "\n",
        "\n",
        "\n",
        "      self.crossover()\n",
        "      self.mutation()\n",
        "      self.population.updateState()\n",
        "\n",
        "      it+=1 \n",
        "\n",
        "    return fit_history, sec_history, lea_history\n"
      ],
      "execution_count": null,
      "outputs": []
    },
    {
      "cell_type": "code",
      "metadata": {
        "id": "c77T7yIZappu",
        "outputId": "b103ea51-04c8-4d81-c693-b99c7d9263d6",
        "colab": {
          "base_uri": "https://localhost:8080/",
          "height": 34
        }
      },
      "source": [
        "population = Population(20, fitness)\n",
        "driver = GADriver(population, pc=0.9, pm=0.01, function=fitness)\n",
        "driver.population.secondFittest.chromosome"
      ],
      "execution_count": null,
      "outputs": [
        {
          "output_type": "execute_result",
          "data": {
            "text/plain": [
              "array([ 1.34621704, -0.41509937])"
            ]
          },
          "metadata": {
            "tags": []
          },
          "execution_count": 12
        }
      ]
    },
    {
      "cell_type": "code",
      "metadata": {
        "id": "1DF_YgIgJRPT"
      },
      "source": [
        "f_history, s_history, l_history = driver.train(n_gen=10000)"
      ],
      "execution_count": null,
      "outputs": []
    },
    {
      "cell_type": "code",
      "metadata": {
        "id": "z-eyuJA3eNOl",
        "outputId": "cd43f831-2a59-43ee-af16-b307949d7504",
        "colab": {
          "base_uri": "https://localhost:8080/",
          "height": 68
        }
      },
      "source": [
        "print(\"Fittest : \", driver.population.fittest.chromosome, driver.population.fittest.fitness)\n",
        "print(\"Second  : \", driver.population.secondFittest.chromosome, driver.population.secondFittest.fitness)\n",
        "print(\"Least   : \", driver.population.leastFittest.chromosome, driver.population.leastFittest.fitness)"
      ],
      "execution_count": null,
      "outputs": [
        {
          "output_type": "stream",
          "text": [
            "Fittest :  [-0.84381276 -0.01144034] 0.8435026871159558\n",
            "Second  :  [-0.84381276 -0.12868595] 0.8278210470716054\n",
            "Least   :  [-0.84381276 -0.12868595] 0.8278210470716054\n"
          ],
          "name": "stdout"
        }
      ]
    },
    {
      "cell_type": "code",
      "metadata": {
        "id": "KgsYv5MkbIk5",
        "outputId": "e67158f9-f1dc-473f-f84a-aa87a2d99343",
        "colab": {
          "base_uri": "https://localhost:8080/",
          "height": 282
        }
      },
      "source": [
        "import matplotlib.pyplot as plt \n",
        "\n",
        "plt.plot(f_history)"
      ],
      "execution_count": null,
      "outputs": [
        {
          "output_type": "execute_result",
          "data": {
            "text/plain": [
              "[<matplotlib.lines.Line2D at 0x7f097962a438>]"
            ]
          },
          "metadata": {
            "tags": []
          },
          "execution_count": 19
        },
        {
          "output_type": "display_data",
          "data": {
            "image/png": "[encoded data removed]",
            "text/plain": [
              "<Figure size 432x288 with 1 Axes>"
            ]
          },
          "metadata": {
            "tags": [],
            "needs_background": "light"
          }
        }
      ]
    },
    {
      "cell_type": "code",
      "metadata": {
        "id": "c5j_LYogD2pm",
        "outputId": "d430720a-06cf-4510-f040-be059654ec71",
        "colab": {
          "base_uri": "https://localhost:8080/",
          "height": 68
        }
      },
      "source": [
        "print(\"Fittest : \", driver.population.fittest.chromosome, driver.population.fittest.fitness)\n",
        "print(\"Second  : \", driver.population.secondFittest.chromosome, driver.population.secondFittest.fitness)\n",
        "print(\"Least   : \", driver.population.leastFittest.chromosome, driver.population.leastFittest.fitness)"
      ],
      "execution_count": null,
      "outputs": [
        {
          "output_type": "stream",
          "text": [
            "Fittest :  [-0.59149721  0.09756889] 0.587622250806517\n",
            "Second  :  [-0.59149721 -0.79220373] 0.34959439222499517\n",
            "Least   :  [-0.59149721 -0.79220373] 0.34959439222499517\n"
          ],
          "name": "stdout"
        }
      ]
    },
    {
      "cell_type": "code",
      "metadata": {
        "id": "W6DxJ68-avkZ",
        "outputId": "2efd2cc9-8c8c-47da-c6d5-15ba7b8fd180",
        "colab": {
          "base_uri": "https://localhost:8080/",
          "height": 164
        }
      },
      "source": [
        "  newlist = sorted(ut, key=lambda x: x.count, reverse=True)\n"
      ],
      "execution_count": null,
      "outputs": [
        {
          "output_type": "error",
          "ename": "NameError",
          "evalue": "ignored",
          "traceback": [
            "\u001b[0;31m---------------------------------------------------------------------------\u001b[0m",
            "\u001b[0;31mNameError\u001b[0m                                 Traceback (most recent call last)",
            "\u001b[0;32m<ipython-input-252-b656080f8ef6>\u001b[0m in \u001b[0;36m<module>\u001b[0;34m()\u001b[0m\n\u001b[0;32m----> 1\u001b[0;31m \u001b[0mnewlist\u001b[0m \u001b[0;34m=\u001b[0m \u001b[0msorted\u001b[0m\u001b[0;34m(\u001b[0m\u001b[0mut\u001b[0m\u001b[0;34m,\u001b[0m \u001b[0mkey\u001b[0m\u001b[0;34m=\u001b[0m\u001b[0;32mlambda\u001b[0m \u001b[0mx\u001b[0m\u001b[0;34m:\u001b[0m \u001b[0mx\u001b[0m\u001b[0;34m.\u001b[0m\u001b[0mcount\u001b[0m\u001b[0;34m,\u001b[0m \u001b[0mreverse\u001b[0m\u001b[0;34m=\u001b[0m\u001b[0;32mTrue\u001b[0m\u001b[0;34m)\u001b[0m\u001b[0;34m\u001b[0m\u001b[0;34m\u001b[0m\u001b[0m\n\u001b[0m",
            "\u001b[0;31mNameError\u001b[0m: name 'ut' is not defined"
          ]
        }
      ]
    },
    {
      "cell_type": "code",
      "metadata": {
        "id": "Q83S6j4Zav-4",
        "outputId": "69f8ddbd-c64b-4632-f0d2-cda710eb0cdb",
        "colab": {
          "base_uri": "https://localhost:8080/",
          "height": 34
        }
      },
      "source": [
        "random_number = random.choices([0, 1], [0.9, 0.1])\n",
        "random_number[0]\n"
      ],
      "execution_count": null,
      "outputs": [
        {
          "output_type": "execute_result",
          "data": {
            "text/plain": [
              "0"
            ]
          },
          "metadata": {
            "tags": []
          },
          "execution_count": 82
        }
      ]
    },
    {
      "cell_type": "code",
      "metadata": {
        "id": "H_-f2GS9cZBc"
      },
      "source": [
        ""
      ],
      "execution_count": null,
      "outputs": []
    },
    {
      "cell_type": "code",
      "metadata": {
        "id": "Oh-QXEN_c6Ja"
      },
      "source": [
        "test = np.array(['helol', 1, 3])"
      ],
      "execution_count": null,
      "outputs": []
    },
    {
      "cell_type": "code",
      "metadata": {
        "id": "tOWY7AKUcvW2",
        "outputId": "643efe2d-be95-44c3-fb2a-557f2f5a634a",
        "colab": {
          "base_uri": "https://localhost:8080/",
          "height": 197
        }
      },
      "source": [
        "haha = np.delete(test, [3], obj=1)"
      ],
      "execution_count": null,
      "outputs": [
        {
          "output_type": "error",
          "ename": "TypeError",
          "evalue": "ignored",
          "traceback": [
            "\u001b[0;31m---------------------------------------------------------------------------\u001b[0m",
            "\u001b[0;31mTypeError\u001b[0m                                 Traceback (most recent call last)",
            "\u001b[0;32m<ipython-input-174-57c94ddd8473>\u001b[0m in \u001b[0;36m<module>\u001b[0;34m()\u001b[0m\n\u001b[0;32m----> 1\u001b[0;31m \u001b[0mhaha\u001b[0m \u001b[0;34m=\u001b[0m \u001b[0mnp\u001b[0m\u001b[0;34m.\u001b[0m\u001b[0mdelete\u001b[0m\u001b[0;34m(\u001b[0m\u001b[0mtest\u001b[0m\u001b[0;34m,\u001b[0m \u001b[0;34m[\u001b[0m\u001b[0;36m3\u001b[0m\u001b[0;34m]\u001b[0m\u001b[0;34m,\u001b[0m \u001b[0mobj\u001b[0m\u001b[0;34m=\u001b[0m\u001b[0;36m1\u001b[0m\u001b[0;34m)\u001b[0m\u001b[0;34m\u001b[0m\u001b[0;34m\u001b[0m\u001b[0m\n\u001b[0m",
            "\u001b[0;32m<__array_function__ internals>\u001b[0m in \u001b[0;36mdelete\u001b[0;34m(*args, **kwargs)\u001b[0m\n",
            "\u001b[0;31mTypeError\u001b[0m: _delete_dispatcher() got multiple values for argument 'obj'"
          ]
        }
      ]
    },
    {
      "cell_type": "code",
      "metadata": {
        "id": "frshtNLDcwnT",
        "outputId": "4692f9d2-4348-4cd9-96cd-170bb0f6a73b",
        "colab": {
          "base_uri": "https://localhost:8080/",
          "height": 34
        }
      },
      "source": [
        "haha"
      ],
      "execution_count": null,
      "outputs": [
        {
          "output_type": "execute_result",
          "data": {
            "text/plain": [
              "array(['helol', '1', '3'], dtype='<U5')"
            ]
          },
          "metadata": {
            "tags": []
          },
          "execution_count": 172
        }
      ]
    },
    {
      "cell_type": "code",
      "metadata": {
        "id": "-YgLzYHjdCEZ"
      },
      "source": [
        ""
      ],
      "execution_count": null,
      "outputs": []
    }
  ]
}